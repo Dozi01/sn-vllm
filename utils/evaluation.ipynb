{
 "cells": [
  {
   "cell_type": "code",
   "execution_count": 1,
   "metadata": {},
   "outputs": [],
   "source": [
    "import json\n",
    "from SoccerNet.Evaluation.MV_FoulRecognition import evaluate"
   ]
  },
  {
   "cell_type": "code",
   "execution_count": 38,
   "metadata": {},
   "outputs": [],
   "source": [
    "def predictions_to_eval_form(json_path, use_clip_1 = True):\n",
    "    f = open(json_path)\n",
    "    data = json.load(f)\n",
    "\n",
    "    new_json = {\n",
    "    'Set': data['Set'],\n",
    "    'Actions': {}\n",
    "}\n",
    "\n",
    "    # Extract actions and reformat them under simple numerical keys\n",
    "    for i, (key, value) in enumerate(data['Actions'].items()):\n",
    "\n",
    "        # Extract the number following 'action_'\n",
    "        parts = key.split('/')\n",
    "\n",
    "        action_part = None\n",
    "        for part in parts:\n",
    "            if 'action' in part:\n",
    "                action_part = part\n",
    "                break\n",
    "        action_number = action_part.split('_')[1]\n",
    "\n",
    "        if action_part:\n",
    "            action_number = action_part.split('_')[1]  # Split on '_' and take the second part\n",
    "        else:\n",
    "            print(\"No action part found in the file path.\")\n",
    "        \n",
    "        if use_clip_1:\n",
    "            if not action_number in new_json['Actions'].keys():\n",
    "                new_json['Actions'][str(action_number)] = value\n",
    "                \n",
    "    return new_json"
   ]
  },
  {
   "cell_type": "code",
   "execution_count": 39,
   "metadata": {},
   "outputs": [],
   "source": [
    "splits = ['Train','Valid','Test','Challenge']\n"
   ]
  },
  {
   "cell_type": "code",
   "execution_count": 40,
   "metadata": {},
   "outputs": [
    {
     "name": "stdout",
     "output_type": "stream",
     "text": [
      "Train\n",
      "2916\n",
      "Valid\n",
      "411\n",
      "Test\n",
      "301\n",
      "Challenge\n",
      "273\n"
     ]
    }
   ],
   "source": [
    "for split in splits:\n",
    "    json_path = f'../visual_features/predictions{split}_clip.json'\n",
    "    evaluation_form = predictions_to_eval_form(json_path)\n",
    "    print(split)\n",
    "    print(len(evaluation_form['Actions']))\n",
    "    evaluation_form_path = f'evaluation_form_{split}_clip.json'\n",
    "    with open(evaluation_form_path, 'w') as json_file:\n",
    "        json.dump(evaluation_form, json_file, indent=4)"
   ]
  },
  {
   "cell_type": "code",
   "execution_count": 41,
   "metadata": {},
   "outputs": [
    {
     "name": "stdout",
     "output_type": "stream",
     "text": [
      "<class 'numpy.ndarray'>\n",
      "Train\n",
      "{'accuracy_offence_severity': 59.120310478654595, 'accuracy_action': 60.11211729193619, 'balanced_accuracy_offence_severity': 52.71739112704823, 'balanced_accuracy_action': 60.5933745361319, 'leaderboard_value': 56.65538283159006}\n",
      "<class 'numpy.ndarray'>\n",
      "Valid\n",
      "{'accuracy_offence_severity': 50.155763239875384, 'accuracy_action': 41.43302180685358, 'balanced_accuracy_offence_severity': 34.20043498168498, 'balanced_accuracy_action': 28.86438695712889, 'leaderboard_value': 31.532410969406932}\n",
      "<class 'numpy.ndarray'>\n",
      "Test\n",
      "{'accuracy_offence_severity': 52.191235059760956, 'accuracy_action': 52.589641434262944, 'balanced_accuracy_offence_severity': 32.53494709985905, 'balanced_accuracy_action': 42.416872009345994, 'leaderboard_value': 37.475909554602524}\n"
     ]
    }
   ],
   "source": [
    "for split in splits[:3]:\n",
    "    gs_file = f'annotations_{split}.json'\n",
    "    prediction_file = f'evaluation_form_{split}_clip.json'\n",
    "\n",
    "    results = evaluate(gs_file, prediction_file)\n",
    "    print(split)\n",
    "    print(results)"
   ]
  },
  {
   "cell_type": "code",
   "execution_count": 27,
   "metadata": {},
   "outputs": [],
   "source": [
    "def json_indent(json_path):\n",
    "    f = open(json_path)\n",
    "    data = json.load(f)\n",
    "\n",
    "    with open(json_path, 'w') as json_file:\n",
    "        json.dump(data, json_file, indent=4)"
   ]
  },
  {
   "cell_type": "code",
   "execution_count": 28,
   "metadata": {},
   "outputs": [],
   "source": [
    "for split in splits:\n",
    "    json_path = f'../visual_features/predictions{split}_clip.json'\n",
    "    evaluation_form = json_indent(json_path)"
   ]
  },
  {
   "cell_type": "code",
   "execution_count": null,
   "metadata": {},
   "outputs": [],
   "source": []
  }
 ],
 "metadata": {
  "kernelspec": {
   "display_name": "xvars",
   "language": "python",
   "name": "python3"
  },
  "language_info": {
   "codemirror_mode": {
    "name": "ipython",
    "version": 3
   },
   "file_extension": ".py",
   "mimetype": "text/x-python",
   "name": "python",
   "nbconvert_exporter": "python",
   "pygments_lexer": "ipython3",
   "version": "3.10.14"
  }
 },
 "nbformat": 4,
 "nbformat_minor": 2
}
